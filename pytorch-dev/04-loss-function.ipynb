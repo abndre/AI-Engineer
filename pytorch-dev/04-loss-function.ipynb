{
 "cells": [
  {
   "cell_type": "code",
   "execution_count": 6,
   "id": "76f5a3c2",
   "metadata": {},
   "outputs": [],
   "source": [
    "import torch.nn.functional as F\n",
    "import numpy as np\n",
    "import torch\n",
    "from torch.nn import CrossEntropyLoss"
   ]
  },
  {
   "cell_type": "code",
   "execution_count": 5,
   "id": "c4465ae5",
   "metadata": {},
   "outputs": [
    {
     "name": "stdout",
     "output_type": "stream",
     "text": [
      "One-hot vector using NumPy: [0 1 0]\n",
      "One-hot vector using PyTorch: tensor([0, 1, 0])\n"
     ]
    }
   ],
   "source": [
    "y = 1\n",
    "num_classes = 3\n",
    "\n",
    "# Create the one-hot encoded vector using NumPy\n",
    "one_hot_numpy = np.array([0, 1, 0])\n",
    "\n",
    "# Create the one-hot encoded vector using PyTorch\n",
    "one_hot_pytorch = F.one_hot(torch.tensor(y), num_classes=num_classes)\n",
    "\n",
    "print(\"One-hot vector using NumPy:\", one_hot_numpy)\n",
    "print(\"One-hot vector using PyTorch:\", one_hot_pytorch)"
   ]
  },
  {
   "cell_type": "code",
   "execution_count": 8,
   "id": "3240cf56",
   "metadata": {},
   "outputs": [
    {
     "data": {
      "text/plain": [
       "tensor([[0, 0, 1, 0]])"
      ]
     },
     "execution_count": 8,
     "metadata": {},
     "output_type": "execute_result"
    }
   ],
   "source": [
    "y = [2]\n",
    "scores = torch.tensor([[0.1, 6.0, -2.0, 3.2]])\n",
    "\n",
    "# Create a one-hot encoded vector of the label y\n",
    "one_hot_label = F.one_hot(torch.tensor(y), num_classes=4)\n",
    "one_hot_label"
   ]
  },
  {
   "cell_type": "code",
   "execution_count": 9,
   "id": "05064bbc",
   "metadata": {},
   "outputs": [
    {
     "data": {
      "text/plain": [
       "tensor(8.0619, dtype=torch.float64)"
      ]
     },
     "execution_count": 9,
     "metadata": {},
     "output_type": "execute_result"
    }
   ],
   "source": [
    "# Create the cross entropy loss function\n",
    "criterion = CrossEntropyLoss()\n",
    "# Calculate the cross entropy loss\n",
    "loss = criterion(scores.double(), one_hot_label.double())\n",
    "loss"
   ]
  },
  {
   "cell_type": "code",
   "execution_count": 13,
   "id": "3076be03",
   "metadata": {},
   "outputs": [
    {
     "name": "stdout",
     "output_type": "stream",
     "text": [
      "Weight of the first layer: Parameter containing:\n",
      "tensor([[ 0.0221, -0.1695, -0.1665, -0.1934, -0.1595,  0.2161, -0.2073,  0.0636,\n",
      "         -0.1690,  0.1147, -0.1952, -0.1422, -0.1890, -0.1800, -0.2430,  0.1376],\n",
      "        [ 0.1292, -0.0578,  0.1253,  0.1546, -0.0963,  0.0919, -0.0820, -0.1296,\n",
      "          0.1557, -0.0336,  0.0788, -0.0789,  0.0862,  0.1616, -0.1677,  0.2474],\n",
      "        [-0.0918,  0.1489,  0.0622, -0.1718, -0.1892, -0.0902,  0.2381, -0.1815,\n",
      "          0.2036, -0.1854, -0.1957, -0.1595,  0.1677,  0.1974,  0.0321,  0.1650],\n",
      "        [ 0.0244,  0.0587, -0.0104, -0.0896,  0.2343, -0.1572,  0.2477, -0.1886,\n",
      "          0.2317, -0.2213, -0.1964,  0.0555, -0.1604,  0.1765,  0.0415, -0.1338],\n",
      "        [ 0.0790, -0.2101,  0.0504, -0.2116,  0.0672,  0.1447, -0.1105,  0.1457,\n",
      "          0.1539,  0.0834, -0.0037,  0.1873,  0.1229, -0.0148,  0.0990, -0.0704],\n",
      "        [-0.2255,  0.1331,  0.0102, -0.2038, -0.1407, -0.2316, -0.1219, -0.0338,\n",
      "          0.2196, -0.1715, -0.1506, -0.0044, -0.0486,  0.0299,  0.0335, -0.0841],\n",
      "        [ 0.0522,  0.0998, -0.0658, -0.0284, -0.2482,  0.1834,  0.1432,  0.1121,\n",
      "          0.0019,  0.2476,  0.0905,  0.1320, -0.1345, -0.1453, -0.0477,  0.0352],\n",
      "        [-0.2426,  0.0739,  0.1864, -0.1476, -0.1277,  0.2065,  0.2315,  0.1341,\n",
      "         -0.0858, -0.1543, -0.1701, -0.2337, -0.1351,  0.1725,  0.2062,  0.1066]],\n",
      "       requires_grad=True)\n",
      "Bias of the second layer: Parameter containing:\n",
      "tensor([0.2952, 0.0902], requires_grad=True)\n"
     ]
    }
   ],
   "source": [
    "model = torch.nn.Sequential(torch.nn.Linear(16, 8),\n",
    "                      torch.nn.Linear(8, 2)\n",
    "                     )\n",
    "\n",
    "# Access the weight of the first linear layer\n",
    "weight_0 = model[0].weight\n",
    "print(\"Weight of the first layer:\", weight_0)\n",
    "\n",
    "# Access the bias of the second linear layer\n",
    "bias_1 = model[1].bias\n",
    "print(\"Bias of the second layer:\", bias_1)"
   ]
  },
  {
   "cell_type": "code",
   "execution_count": 15,
   "id": "4b9042d4",
   "metadata": {},
   "outputs": [
    {
     "ename": "TypeError",
     "evalue": "unsupported operand type(s) for *: 'float' and 'NoneType'",
     "output_type": "error",
     "traceback": [
      "\u001b[1;31m---------------------------------------------------------------------------\u001b[0m",
      "\u001b[1;31mTypeError\u001b[0m                                 Traceback (most recent call last)",
      "Cell \u001b[1;32mIn[15], line 12\u001b[0m\n\u001b[0;32m      8\u001b[0m grads1 \u001b[38;5;241m=\u001b[39m weight1\u001b[38;5;241m.\u001b[39mgrad\n\u001b[0;32m      9\u001b[0m \u001b[38;5;66;03m#grads2 = weight2.grad\u001b[39;00m\n\u001b[0;32m     10\u001b[0m \n\u001b[0;32m     11\u001b[0m \u001b[38;5;66;03m# Update the weights using the learning rate and the gradients\u001b[39;00m\n\u001b[1;32m---> 12\u001b[0m weight0 \u001b[38;5;241m=\u001b[39m weight0 \u001b[38;5;241m-\u001b[39m \u001b[43mlr\u001b[49m\u001b[43m \u001b[49m\u001b[38;5;241;43m*\u001b[39;49m\u001b[43m \u001b[49m\u001b[43mgrads0\u001b[49m\n\u001b[0;32m     13\u001b[0m weight1 \u001b[38;5;241m=\u001b[39m weight1 \u001b[38;5;241m-\u001b[39m lr \u001b[38;5;241m*\u001b[39m grads1\n\u001b[0;32m     14\u001b[0m \u001b[38;5;66;03m#weight2 = weight2 - lr * grads2\u001b[39;00m\n",
      "\u001b[1;31mTypeError\u001b[0m: unsupported operand type(s) for *: 'float' and 'NoneType'"
     ]
    }
   ],
   "source": [
    "lr=0.001\n",
    "weight0 = model[0].weight\n",
    "weight1 = model[1].weight\n",
    "#weight2 = model[2].weight\n",
    "\n",
    "# Access the gradients of the weight of each linear layer\n",
    "grads0 = weight0.grad\n",
    "grads1 = weight1.grad\n",
    "#grads2 = weight2.grad\n",
    "\n",
    "# Update the weights using the learning rate and the gradients\n",
    "weight0 = weight0 - lr * grads0\n",
    "weight1 = weight1 - lr * grads1\n",
    "#weight2 = weight2 - lr * grads2"
   ]
  },
  {
   "cell_type": "code",
   "execution_count": null,
   "id": "fdeba5df",
   "metadata": {},
   "outputs": [],
   "source": []
  }
 ],
 "metadata": {
  "kernelspec": {
   "display_name": "huggingface_env",
   "language": "python",
   "name": "python3"
  },
  "language_info": {
   "codemirror_mode": {
    "name": "ipython",
    "version": 3
   },
   "file_extension": ".py",
   "mimetype": "text/x-python",
   "name": "python",
   "nbconvert_exporter": "python",
   "pygments_lexer": "ipython3",
   "version": "3.9.21"
  }
 },
 "nbformat": 4,
 "nbformat_minor": 5
}

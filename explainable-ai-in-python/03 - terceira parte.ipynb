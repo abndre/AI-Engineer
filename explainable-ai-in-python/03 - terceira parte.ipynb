{
 "cells": [
  {
   "cell_type": "code",
   "execution_count": null,
   "id": "25d74a70",
   "metadata": {},
   "outputs": [],
   "source": [
    "import shap\n",
    "\n",
    "# Create the SHAP explainer\n",
    "explainer = shap.KernelExplainer(model.predict_proba, shap.kmeans(X, 10))\n",
    "\n",
    "# Compute SHAP values for the first instance in the test dataset\n",
    "shap_values = explainer.shap_values(X.iloc[0,:])\n",
    "\n",
    "# Plot the SHAP values using a waterfall plot\n",
    "shap.waterfall_plot(shap.Explanation(values=shap_values[:,1], \n",
    "                    base_values=explainer.expected_value[1], \n",
    "                    data=y, \n",
    "                    feature_names=X.columns))"
   ]
  },
  {
   "cell_type": "code",
   "execution_count": null,
   "id": "acb86292",
   "metadata": {},
   "outputs": [],
   "source": [
    "from lime.lime_tabular import LimeTabularExplainer\n",
    "\n",
    "sample_data_point = X.iloc[2, :]\n",
    "\n",
    "# Create the explainer\n",
    "explainer = LimeTabularExplainer(\n",
    "    X.values,   \n",
    "    feature_names=X.columns,  \n",
    "    mode='regression'\n",
    ")\n",
    "\n",
    "# Generate the explanation\n",
    "exp = explainer.explain_instance(\n",
    "    sample_data_point.values,  \n",
    "    model.predict\n",
    ")\n",
    "\n",
    "# Display the explanation\n",
    "exp.as_pyplot_figure()\n",
    "plt.show()"
   ]
  },
  {
   "cell_type": "code",
   "execution_count": null,
   "id": "8a6b0cd8",
   "metadata": {},
   "outputs": [],
   "source": [
    "from lime.lime_tabular import LimeTabularExplainer\n",
    "\n",
    "sample_data_point = X.iloc[2, :]\n",
    "\n",
    "# Create the explainer\n",
    "explainer = LimeTabularExplainer(\n",
    "    X.values,\n",
    "    feature_names=X.columns,  \n",
    "    mode='classification'\n",
    ")\n",
    "\n",
    "# Generate the explanation\n",
    "exp = explainer.explain_instance(\n",
    "    sample_data_point.values,  \n",
    "    model.predict_proba\n",
    ")\n",
    "\n",
    "# Display the explanation\n",
    "exp.as_pyplot_figure()\n",
    "plt.show()"
   ]
  },
  {
   "cell_type": "code",
   "execution_count": null,
   "id": "863589b5",
   "metadata": {},
   "outputs": [],
   "source": [
    "from lime.lime_text import LimeTextExplainer\n",
    "\n",
    "text_instance = \"Amazing battery life and the camera quality is perfect! I highly recommend this smartphone.\"\n",
    "\n",
    "# Create a LIME text explainer\n",
    "explainer = LimeTextExplainer()\n",
    "\n",
    "# Generate the explanation\n",
    "exp = explainer.explain_instance(\n",
    "    text_instance,  \n",
    "  model_predict \n",
    ")\n",
    "\n",
    "# Display the explanation\n",
    "exp.as_pyplot_figure()\n",
    "plt.show()"
   ]
  },
  {
   "cell_type": "code",
   "execution_count": null,
   "id": "dd1d77b8",
   "metadata": {},
   "outputs": [],
   "source": [
    "from lime import lime_image\n",
    "np.random.seed(10)\n",
    "\n",
    "# Create a LIME explainer\n",
    "explainer = lime_image.LimeImageExplainer()\n",
    "\n",
    "# Generate the explanation\n",
    "explanation = explainer.explain_instance(image, model_predict, hide_color=0, num_samples=50)\n",
    "\n",
    "# Display the explanation\n",
    "temp, _ = explanation.get_image_and_mask(explanation.top_labels[0], hide_rest=True)\n",
    "plt.imshow(temp)\n",
    "plt.title('LIME Explanation')\n",
    "plt.axis('off')\n",
    "plt.show()"
   ]
  }
 ],
 "metadata": {
  "language_info": {
   "name": "python"
  }
 },
 "nbformat": 4,
 "nbformat_minor": 5
}

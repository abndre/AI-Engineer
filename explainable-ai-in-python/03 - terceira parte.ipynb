{
 "cells": [
  {
   "cell_type": "code",
   "execution_count": null,
   "id": "25d74a70",
   "metadata": {},
   "outputs": [],
   "source": [
    "import shap\n",
    "\n",
    "# Create the SHAP explainer\n",
    "explainer = shap.KernelExplainer(model.predict_proba, shap.kmeans(X, 10))\n",
    "\n",
    "# Compute SHAP values for the first instance in the test dataset\n",
    "shap_values = explainer.shap_values(X.iloc[0,:])\n",
    "\n",
    "# Plot the SHAP values using a waterfall plot\n",
    "shap.waterfall_plot(shap.Explanation(values=shap_values[:,1], \n",
    "                    base_values=explainer.expected_value[1], \n",
    "                    data=y, \n",
    "                    feature_names=X.columns))"
   ]
  },
  {
   "cell_type": "code",
   "execution_count": null,
   "id": "acb86292",
   "metadata": {},
   "outputs": [],
   "source": []
  }
 ],
 "metadata": {
  "language_info": {
   "name": "python"
  }
 },
 "nbformat": 4,
 "nbformat_minor": 5
}

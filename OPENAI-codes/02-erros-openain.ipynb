{
 "cells": [
  {
   "cell_type": "code",
   "execution_count": null,
   "id": "3e1dfd69",
   "metadata": {},
   "outputs": [],
   "source": [
    "from openai import OpenAI\n"
   ]
  },
  {
   "cell_type": "code",
   "execution_count": null,
   "id": "2677534b",
   "metadata": {},
   "outputs": [],
   "source": [
    "client = OpenAI(api_key=\"<OPENAI_API_TOKEN>\")\n",
    "\n",
    "message={\"role\": \"user\", \"content\": \"Hello world\"}\n",
    "\n",
    "# Use the try statement\n",
    "try: \n",
    "    response = client.chat.completions.create(\n",
    "        model=\"gpt-4o-mini\",\n",
    "        messages=[message]\n",
    "    )\n",
    "    # Print the response\n",
    "    print(response.choices[0].message.content)\n",
    "# Use the except statement\n",
    "except openai.AuthenticationError as e:\n",
    "    print(\"Please double check your authentication key and try again, the one provided is not valid.\")"
   ]
  },
  {
   "cell_type": "code",
   "execution_count": null,
   "id": "769dfcda",
   "metadata": {},
   "outputs": [],
   "source": [
    "# Import the tenacity library\n",
    "from tenacity  import retry, stop_after_attempt, wait_random_exponential\n",
    "\n",
    "client = OpenAI(api_key=\"<OPENAI_API_TOKEN>\")\n",
    "\n",
    "# Add the appropriate parameters to the decorator\n",
    "@retry(wait=wait_random_exponential(min=5, max=40), stop=stop_after_attempt(4))\n",
    "def get_response(model, message):\n",
    "    response = client.chat.completions.create(\n",
    "      model=model,\n",
    "      messages=[message]\n",
    "    )\n",
    "    return response.choices[0].message.content\n",
    "print(get_response(\"gpt-4o-mini\", {\"role\": \"user\", \"content\": \"List ten holiday destinations.\"}))"
   ]
  },
  {
   "cell_type": "code",
   "execution_count": null,
   "id": "375f64df",
   "metadata": {},
   "outputs": [],
   "source": [
    "client = OpenAI(api_key=\"<OPENAI_API_TOKEN>\")\n",
    "measurements=[5.2, 6.3, 3.7]\n",
    "messages = []\n",
    "# System message requesting a table with conversions\n",
    "messages.append({\n",
    "    \"role\": \"system\",\n",
    "    \"content\": (\n",
    "        \"You are a helpful assistant. Convert all the provided measurements \"\n",
    "        \"from kilometers to miles and return the results in a single table. \"\n",
    "        \"Each row should show the original value in kilometers and its \"\n",
    "        \"converted value in miles (rounded to two decimal places).\"\n",
    "    )\n",
    "})\n",
    "\n",
    "# Append one user message per measurement\n",
    "[messages.append({\"role\": \"user\", \"content\": str(i)}) for i in measurements]\n",
    "\n",
    "response = get_response(messages)\n",
    "print(response)\n",
    "\n",
    "# <script.py> output:\n",
    "#     Here is the table with the provided measurements converted from kilometers to miles:\n",
    "    \n",
    "#     | Kilometers | Miles  |\n",
    "#     |------------|--------|\n",
    "#     | 5.2        | 3.23   |\n",
    "#     | 6.3        | 3.91   |\n",
    "#     | 3.7        | 2.30   |\n",
    "    \n",
    "#     The conversions are rounded to two decimal places."
   ]
  },
  {
   "cell_type": "code",
   "execution_count": null,
   "id": "0324002c",
   "metadata": {},
   "outputs": [],
   "source": [
    "import tiktoken\n",
    "\n",
    "client = OpenAI(api_key=\"<OPENAI_API_TOKEN>\")\n",
    "input_message = {\"role\": \"user\", \"content\": \"I'd like to buy a shirt and a jacket. Can you suggest two color pairings for these items?\"}\n",
    "\n",
    "# Use tiktoken to create the encoding for your model\n",
    "encoding = tiktoken.encoding_for_model(\"gpt-4o-mini\")\n",
    "# Check for the number of tokens\n",
    "num_tokens = len(encoding.encode(input_message['content']))\n",
    "\n",
    "# Run the chat completions function and print the response\n",
    "if num_tokens <= 100:\n",
    "    response = client.chat.completions.create(model=\"gpt-4o-mini\", messages=[input_message])\n",
    "    print(response.choices[0].message.content)\n",
    "else:\n",
    "    print(\"Message exceeds token limit\")"
   ]
  },
  {
   "cell_type": "code",
   "execution_count": null,
   "id": "6800b14a",
   "metadata": {},
   "outputs": [],
   "source": [
    "message_listing =\n",
    "\n",
    "[{'role': 'system',\n",
    "  'content': \"Don't make assumptions about what values to plug into functions. Ask for clarification if a user request is ambiguous.\"},\n",
    " {'role': 'user',\n",
    "  'content': 'Step into this beautiful two-story, single-family home located in Springfield, USA, priced at $350,000. This charming property features 4 bedrooms, 2.5 bathrooms, a spacious living room with a cozy fireplace, a modern kitchen with stainless steel appliances, and a large backyard perfect for family gatherings. The master bedroom includes an en-suite bathroom and a walk-in closet. Enjoy the convenience of an attached two-car garage and a recently updated HVAC system. Located near top-rated schools, parks, and shopping centers, this home is ideal for families looking for comfort and convenience.'}]\n",
    "\n",
    "function_definition  =\n",
    "\n",
    "\n",
    "[{'type': 'function',\n",
    "  'function': {'name': 'real_estate_info',\n",
    "   'description': 'Get the information about homes for sale from the body of the input text',\n",
    "   'parameters': {'type': 'object',\n",
    "    'properties': {'home type': {'type': 'string', 'description': 'Home type'},\n",
    "     'location': {'type': 'string', 'description': 'Location'},\n",
    "     'price': {'type': 'integer', 'description': 'Price'},\n",
    "     'bedrooms': {'type': 'integer', 'description': 'Number of bedrooms'}}}}}]"
   ]
  },
  {
   "cell_type": "code",
   "execution_count": null,
   "id": "1d25a4ee",
   "metadata": {},
   "outputs": [],
   "source": [
    "client = OpenAI(api_key=\"<OPENAI_API_TOKEN>\")\n",
    "\n",
    "response= client.chat.completions.create(\n",
    "    model=\"gpt-4o-mini\",\n",
    "    # Add the message\n",
    "    messages=message_listing,\n",
    "    # Add your function definition\n",
    "    tools=function_definition,\n",
    ")\n",
    "\n",
    "# Print the response\n",
    "print(response.choices[0].message.tool_calls[0].function.arguments)\n",
    "\n",
    "\n",
    "# output:\n",
    "#     {\"home type\":\"single-family\",\"location\":\"Springfield, USA\",\"price\":350000,\"bedrooms\":4}"
   ]
  }
 ],
 "metadata": {
  "language_info": {
   "name": "python"
  }
 },
 "nbformat": 4,
 "nbformat_minor": 5
}

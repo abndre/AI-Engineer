{
 "cells": [
  {
   "cell_type": "code",
   "execution_count": null,
   "id": "0acd3eea",
   "metadata": {},
   "outputs": [],
   "source": [
    "from openai import OpenAI\n",
    "client = OpenAI(api_key=\"<OPENAI_API_TOKEN>\")\n"
   ]
  },
  {
   "cell_type": "code",
   "execution_count": null,
   "id": "d9e7e6ae",
   "metadata": {},
   "outputs": [],
   "source": [
    "def get_response(system_prompt, user_prompt):\n",
    "  messages = [{\"role\": \"system\", \"content\": system_prompt},\n",
    "      \t\t  {\"role\": \"user\", \"content\": user_prompt}]  \n",
    "  response = client.chat.completions.create(\n",
    "      model=\"gpt-4o-mini\", messages=messages, temperature=0)\n",
    "\n",
    "  return response.choices[0].message.content"
   ]
  },
  {
   "cell_type": "code",
   "execution_count": null,
   "id": "c7743264",
   "metadata": {},
   "outputs": [],
   "source": [
    "\n",
    "base_system_prompt = \"Act as a learning advisor who receives queries from users mentioning their background, experience, and goals, and accordingly provides a response that recommends a tailored learning path of textbooks, including both beginner-level and more advanced options.\"\n",
    "\n",
    "# Define behavior guidelines\n",
    "behavior_guidelines = \"ask a user about their background, experience, and goals, whenever any of these is not provided in the prompt\"\n",
    "\n",
    "# Define response guidelines\n",
    "response_guidelines = \"recommend no more than three textbooks\"\n",
    "\n",
    "system_prompt = base_system_prompt + behavior_guidelines + response_guidelines\n",
    "user_prompt = \"Hey, I'm looking for courses on Python and data visualization. What do you recommend?\"\n",
    "response = get_response(system_prompt, user_prompt)\n",
    "print(response)"
   ]
  },
  {
   "cell_type": "code",
   "execution_count": null,
   "id": "01a869f9",
   "metadata": {},
   "outputs": [],
   "source": [
    "\n",
    "# Define the system prompt\n",
    "system_prompt = \"You are a customer service chatbot for MyPersonalDelivery, a delivery service that offers a wide range of delivery options for various items. You should respond to user queries in a gentle way.\"\n",
    "\n",
    "context_question = \"What types of items can be delivered using MyPersonalDelivery?\"\n",
    "context_answer = \"We deliver everything from everyday essentials such as groceries, medications, and documents to larger items like electronics, clothing, and furniture. However, please note that we currently do not offer delivery for hazardous materials or extremely fragile items requiring special handling.\"\n",
    "\n",
    "# Add the context to the model\n",
    "response = client.chat.completions.create(\n",
    "  model=\"gpt-4o-mini\",\n",
    "  messages=[{\"role\": \"system\", \"content\": system_prompt},\n",
    "            {\"role\": \"user\", \"content\": context_question},\n",
    "            {\"role\": \"assistant\", \"content\": context_answer},\n",
    "            {\"role\": \"user\", \"content\": \"Do you deliver furniture?\"}])\n",
    "response = response.choices[0].message.content\n",
    "print(response)"
   ]
  },
  {
   "cell_type": "code",
   "execution_count": null,
   "id": "52add1e0",
   "metadata": {},
   "outputs": [],
   "source": [
    "\n",
    "service_description = (\n",
    "  \"\"\"\n",
    "\"\\nWelcome to MyPersonalDelivery, your trusted and versatile delivery service partner. \n",
    "At MyPersonalDelivery, we are committed to providing you with a seamless and \n",
    "efficient delivery experience for a wide range of items. Whether you need groceries, \n",
    "documents, electronics, or even furniture, \n",
    "we've got you covered.\\n\\nOur Services:\\nWe offer a diverse range of delivery services '\n",
    "'to cater to your unique needs. From same-day delivery for urgent items to scheduled deliveries'\n",
    "' that fit your convenience, we have the flexibility to meet your busy lifestyle. '\n",
    "'Our real-time tracking system ensures that you can monitor the status of your delivery '\n",
    "'every step of the way.\\n\\nWhat We Deliver:\\nOur service is designed to handle various items, '\n",
    "'including everyday essentials such as groceries and medications. '\n",
    "'Need to send important documents? No problem, we'll ensure they reach \n",
    "their destination securely. We also specialize in transporting larger items \n",
    "like electronics, clothing, and even furniture. However, please note that we \n",
    "currently do not offer delivery for hazardous materials or items that are extremely \n",
    "fragile and require special handling.\\n\\nSafety and Care:\\nYour items' safety is '\n",
    "'our top priority. We take pride in our secure handling practices to ensure that'\n",
    "' your deliveries arrive intact. Our contactless delivery option minimizes '\n",
    "'physical contact, adding an extra layer of safety during these times. We understand that '\n",
    "'each item is valuable, and you can trust us to treat your belongings with the utmost '\n",
    "'care.\\n\\nWhy Choose MyPersonalDelivery:\\n- Wide variety of items delivered\\n- Flexible '\n",
    "'delivery options\\n- Real-time tracking for peace of mind\\n- Secure handling and contactless '\n",
    "'delivery\\n- Reliable service with a commitment to excellence\\n\\nWhether you need a small '\n",
    "'package delivered across town or a larger item transported across the city, you can rely '\n",
    "'on MyPersonalDelivery to provide a reliable, secure, and efficient delivery solution. '\n",
    "'Your satisfaction is our driving force, and we look forward to serving you with our '\n",
    "'dedicated and customer-centric approach.\\n\\nFeel free to ask any questions you may have '\n",
    "'about our services, and we'll be more than happy to assist you.\\n\\n\"\n",
    "  \"\"\"\n",
    ")\n",
    "\n",
    "def get_response(system_prompt, user_prompt):\n",
    "  messages = [{\"role\": \"system\", \"content\": system_prompt},\n",
    "      \t\t  {\"role\": \"user\", \"content\": user_prompt}]  \n",
    "  response = client.chat.completions.create(\n",
    "      model=\"gpt-4o-mini\", messages=messages, temperature=0)\n",
    "\n",
    "  return response.choices[0].message.content\n",
    "\n",
    "# Define the system prompt\n",
    "system_prompt = f\"\"\"chatbot to be a customer service chatbot for a delivery service that responds in a gentle way and point to a service description\n",
    "using text inside the tree brackts ```{service_description}```\n",
    "\"\"\"\n",
    "\n",
    "user_prompt = \"What benefits does MyPersonalDelivery offer?\"\n",
    "\n",
    "# Get the response to the user prompt\n",
    "response = get_response(system_prompt, user_prompt)\n",
    "\n",
    "print(response)"
   ]
  }
 ],
 "metadata": {
  "kernelspec": {
   "display_name": "huggingface_env",
   "language": "python",
   "name": "python3"
  },
  "language_info": {
   "codemirror_mode": {
    "name": "ipython",
    "version": 3
   },
   "file_extension": ".py",
   "mimetype": "text/x-python",
   "name": "python",
   "nbconvert_exporter": "python",
   "pygments_lexer": "ipython3",
   "version": "3.9.21"
  }
 },
 "nbformat": 4,
 "nbformat_minor": 5
}

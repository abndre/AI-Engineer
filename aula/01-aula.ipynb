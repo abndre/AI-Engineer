{
 "cells": [
  {
   "cell_type": "code",
   "execution_count": 1,
   "id": "87356510",
   "metadata": {},
   "outputs": [],
   "source": [
    "#classes em python"
   ]
  },
  {
   "cell_type": "code",
   "execution_count": 9,
   "id": "02c47b16",
   "metadata": {
    "vscode": {
     "languageId": "ruby"
    }
   },
   "outputs": [],
   "source": [
    "class Carro:\n",
    "   def __init__(self, cor):\n",
    "      self.cor = cor\n"
   ]
  },
  {
   "cell_type": "code",
   "execution_count": 10,
   "id": "1d07b401",
   "metadata": {},
   "outputs": [],
   "source": [
    "a = Carro(cor='azul')"
   ]
  },
  {
   "cell_type": "code",
   "execution_count": 15,
   "id": "902b172a",
   "metadata": {},
   "outputs": [
    {
     "data": {
      "text/plain": [
       "<__main__.Carro at 0x220af7f0190>"
      ]
     },
     "execution_count": 15,
     "metadata": {},
     "output_type": "execute_result"
    }
   ],
   "source": [
    "a"
   ]
  },
  {
   "cell_type": "code",
   "execution_count": 12,
   "id": "cf87c060",
   "metadata": {},
   "outputs": [
    {
     "data": {
      "text/plain": [
       "'azul'"
      ]
     },
     "execution_count": 12,
     "metadata": {},
     "output_type": "execute_result"
    }
   ],
   "source": [
    "a.cor"
   ]
  },
  {
   "cell_type": "code",
   "execution_count": 13,
   "id": "564236fd",
   "metadata": {},
   "outputs": [],
   "source": [
    "b= Carro('vermelho')"
   ]
  },
  {
   "cell_type": "code",
   "execution_count": 14,
   "id": "de6eb5ff",
   "metadata": {},
   "outputs": [
    {
     "data": {
      "text/plain": [
       "<__main__.Carro at 0x220af84df40>"
      ]
     },
     "execution_count": 14,
     "metadata": {},
     "output_type": "execute_result"
    }
   ],
   "source": [
    "b"
   ]
  },
  {
   "cell_type": "code",
   "execution_count": 17,
   "id": "7d32cb21",
   "metadata": {},
   "outputs": [
    {
     "data": {
      "text/plain": [
       "'vermelho'"
      ]
     },
     "execution_count": 17,
     "metadata": {},
     "output_type": "execute_result"
    }
   ],
   "source": [
    "b.cor"
   ]
  },
  {
   "cell_type": "code",
   "execution_count": null,
   "id": "ee9e350c",
   "metadata": {},
   "outputs": [],
   "source": []
  }
 ],
 "metadata": {
  "kernelspec": {
   "display_name": "huggingface_env",
   "language": "python",
   "name": "python3"
  },
  "language_info": {
   "codemirror_mode": {
    "name": "ipython",
    "version": 3
   },
   "file_extension": ".py",
   "mimetype": "text/x-python",
   "name": "python",
   "nbconvert_exporter": "python",
   "pygments_lexer": "ipython3",
   "version": "3.9.21"
  }
 },
 "nbformat": 4,
 "nbformat_minor": 5
}
